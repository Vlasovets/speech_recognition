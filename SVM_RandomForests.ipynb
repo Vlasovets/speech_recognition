{
  "nbformat": 4,
  "nbformat_minor": 0,
  "metadata": {
    "colab": {
      "name": "SVM_RandomForests.ipynb",
      "provenance": [],
      "toc_visible": true,
      "include_colab_link": true
    },
    "kernelspec": {
      "name": "python3",
      "display_name": "Python 3"
    },
    "accelerator": "GPU"
  },
  "cells": [
    {
      "cell_type": "markdown",
      "metadata": {
        "id": "view-in-github",
        "colab_type": "text"
      },
      "source": [
        "<a href=\"https://colab.research.google.com/github/Vlasovets/speech_recognition/blob/master/SVM_RandomForests.ipynb\" target=\"_parent\"><img src=\"https://colab.research.google.com/assets/colab-badge.svg\" alt=\"Open In Colab\"/></a>"
      ]
    },
    {
      "cell_type": "code",
      "metadata": {
        "id": "dKxmV2rptUdk",
        "colab_type": "code",
        "colab": {}
      },
      "source": [
        "import pandas as pd\n",
        "import numpy as np\n",
        "import pylab as pl\n",
        "import matplotlib.pyplot as plt \n",
        "%matplotlib inline\n",
        "import seaborn as sns\n",
        "import os\n",
        "\n",
        "from sklearn.utils import shuffle\n",
        "from sklearn.svm import SVC\n",
        "from sklearn.metrics import confusion_matrix,classification_report\n",
        "from sklearn.model_selection import cross_val_score, GridSearchCV\n",
        "from sklearn.preprocessing import OneHotEncoder"
      ],
      "execution_count": 0,
      "outputs": []
    },
    {
      "cell_type": "code",
      "metadata": {
        "id": "4cmGdTdprOCb",
        "colab_type": "code",
        "colab": {}
      },
      "source": [
        "train = pd.read_csv('csv_train.csv', sep=',')\n",
        "header = np.arange(0, 6374)\n",
        "train.columns = header\n",
        "\n",
        "#target vector\n",
        "y_train = train[6373]\n",
        "\n",
        "# train subset\n",
        "train = train.iloc[:, :-1]"
      ],
      "execution_count": 0,
      "outputs": []
    },
    {
      "cell_type": "code",
      "metadata": {
        "id": "FDfysGLGrrz0",
        "colab_type": "code",
        "colab": {}
      },
      "source": [
        "dev = pd.read_csv('csv_dev.csv', sep=',')\n",
        "dev.columns = header\n",
        "\n",
        "#target vector\n",
        "y_dev = dev[6373]\n",
        "\n",
        "# train subset\n",
        "dev = dev.iloc[:, :-1]"
      ],
      "execution_count": 0,
      "outputs": []
    },
    {
      "cell_type": "code",
      "metadata": {
        "id": "pRTCfoIirxZ0",
        "colab_type": "code",
        "colab": {}
      },
      "source": [
        "test = pd.read_csv('csv_test.csv', sep=',')\n",
        "header = np.arange(0, 6374)\n",
        "test.columns = header\n",
        "\n",
        "y_test = test[6373]\n",
        "y_test.head(2)\n",
        "\n",
        "test = test.iloc[:, :-1]"
      ],
      "execution_count": 0,
      "outputs": []
    },
    {
      "cell_type": "code",
      "metadata": {
        "id": "ru4Vj9IXt01D",
        "colab_type": "code",
        "colab": {}
      },
      "source": [
        "train_outcome = pd.crosstab(index=y_train,  # Make a crosstab\n",
        "                              columns=\"count\")      # Name the count column"
      ],
      "execution_count": 0,
      "outputs": []
    },
    {
      "cell_type": "code",
      "metadata": {
        "id": "57quT_e9vuRj",
        "colab_type": "code",
        "outputId": "2c3ea8fe-7879-49f4-80cc-be62aaec3e5c",
        "colab": {
          "base_uri": "https://localhost:8080/",
          "height": 408
        }
      },
      "source": [
        "train_outcome # every language has identical number of samples"
      ],
      "execution_count": 0,
      "outputs": [
        {
          "output_type": "execute_result",
          "data": {
            "text/html": [
              "<div>\n",
              "<style scoped>\n",
              "    .dataframe tbody tr th:only-of-type {\n",
              "        vertical-align: middle;\n",
              "    }\n",
              "\n",
              "    .dataframe tbody tr th {\n",
              "        vertical-align: top;\n",
              "    }\n",
              "\n",
              "    .dataframe thead th {\n",
              "        text-align: right;\n",
              "    }\n",
              "</style>\n",
              "<table border=\"1\" class=\"dataframe\">\n",
              "  <thead>\n",
              "    <tr style=\"text-align: right;\">\n",
              "      <th>col_0</th>\n",
              "      <th>count</th>\n",
              "    </tr>\n",
              "    <tr>\n",
              "      <th>6373</th>\n",
              "      <th></th>\n",
              "    </tr>\n",
              "  </thead>\n",
              "  <tbody>\n",
              "    <tr>\n",
              "      <th>ARA</th>\n",
              "      <td>14</td>\n",
              "    </tr>\n",
              "    <tr>\n",
              "      <th>CHI</th>\n",
              "      <td>15</td>\n",
              "    </tr>\n",
              "    <tr>\n",
              "      <th>FRE</th>\n",
              "      <td>13</td>\n",
              "    </tr>\n",
              "    <tr>\n",
              "      <th>GER</th>\n",
              "      <td>14</td>\n",
              "    </tr>\n",
              "    <tr>\n",
              "      <th>HIN</th>\n",
              "      <td>13</td>\n",
              "    </tr>\n",
              "    <tr>\n",
              "      <th>ITA</th>\n",
              "      <td>11</td>\n",
              "    </tr>\n",
              "    <tr>\n",
              "      <th>JPN</th>\n",
              "      <td>11</td>\n",
              "    </tr>\n",
              "    <tr>\n",
              "      <th>KOR</th>\n",
              "      <td>13</td>\n",
              "    </tr>\n",
              "    <tr>\n",
              "      <th>SPA</th>\n",
              "      <td>16</td>\n",
              "    </tr>\n",
              "    <tr>\n",
              "      <th>TEL</th>\n",
              "      <td>13</td>\n",
              "    </tr>\n",
              "    <tr>\n",
              "      <th>TUR</th>\n",
              "      <td>17</td>\n",
              "    </tr>\n",
              "  </tbody>\n",
              "</table>\n",
              "</div>"
            ],
            "text/plain": [
              "col_0  count\n",
              "6373        \n",
              "ARA       14\n",
              "CHI       15\n",
              "FRE       13\n",
              "GER       14\n",
              "HIN       13\n",
              "ITA       11\n",
              "JPN       11\n",
              "KOR       13\n",
              "SPA       16\n",
              "TEL       13\n",
              "TUR       17"
            ]
          },
          "metadata": {
            "tags": []
          },
          "execution_count": 6
        }
      ]
    },
    {
      "cell_type": "code",
      "metadata": {
        "id": "mvy-wn7buC-_",
        "colab_type": "code",
        "outputId": "21c0c37d-9433-46f5-b280-556c1c0f77f3",
        "colab": {
          "base_uri": "https://localhost:8080/",
          "height": 297
        }
      },
      "source": [
        "# Visualizing Language Distribution \n",
        "temp = y_train.value_counts()\n",
        "df = pd.DataFrame({'labels': temp.index,\n",
        "                   'values': temp.values\n",
        "                  })\n",
        "\n",
        "labels = df['labels']\n",
        "sizes = df['values']\n",
        "colors = ['yellowgreen', 'gold', 'lightskyblue', 'lightcoral','cyan','lightpink',\n",
        "          'purple', 'magenta', 'olive', 'teal', 'lime']\n",
        "patches, texts = plt.pie(sizes, colors=colors, shadow=True, startangle=90, pctdistance=1.1, labeldistance=1.2)\n",
        "plt.legend(patches, labels, loc=\"best\")\n",
        "plt.axis('equal')\n",
        "plt.tight_layout()\n",
        "plt.show()"
      ],
      "execution_count": 6,
      "outputs": [
        {
          "output_type": "display_data",
          "data": {
            "image/png": "[encoded data removed]",
            "text/plain": [
              "<Figure size 432x288 with 1 Axes>"
            ]
          },
          "metadata": {
            "tags": []
          }
        }
      ]
    },
    {
      "cell_type": "markdown",
      "metadata": {
        "id": "TSqWg4Oas_Hx",
        "colab_type": "text"
      },
      "source": [
        "### One-hot encoding"
      ]
    },
    {
      "cell_type": "code",
      "metadata": {
        "id": "Nj8EYly0zBBG",
        "colab_type": "code",
        "colab": {}
      },
      "source": [
        "# Transforming non numerical labels into numerical labels\n",
        "from sklearn import preprocessing\n",
        "encoder = preprocessing.LabelEncoder()\n",
        "\n",
        "# encoding train labels \n",
        "encoder.fit(y_train)\n",
        "Y_train = encoder.transform(y_train)\n",
        "\n",
        "# encoding test labels \n",
        "encoder.fit(y_test)\n",
        "Y_test = encoder.transform(y_test)"
      ],
      "execution_count": 0,
      "outputs": []
    },
    {
      "cell_type": "code",
      "metadata": {
        "id": "nXJjV-qHwHSc",
        "colab_type": "code",
        "outputId": "4c19e50b-6cb3-4acb-ca09-d3a9d92464fb",
        "colab": {
          "base_uri": "https://localhost:8080/",
          "height": 72
        }
      },
      "source": [
        "# Dimension of Train and Test set \n",
        "print(\"Dimension of Train set\", train.shape)\n",
        "print(\"Dimension of Test set\", dev.shape,\"\\n\")"
      ],
      "execution_count": 8,
      "outputs": [
        {
          "output_type": "stream",
          "text": [
            "Dimension of Train set (3299, 6373)\n",
            "Dimension of Test set (964, 6373) \n",
            "\n"
          ],
          "name": "stdout"
        }
      ]
    },
    {
      "cell_type": "code",
      "metadata": {
        "id": "pEN6mRdewYBj",
        "colab_type": "code",
        "colab": {}
      },
      "source": [
        "# Scaling the Train and Dev feature set \n",
        "#scaling is transforming the values to a specific scale, e.g. from 1 to 10\n",
        "from sklearn.preprocessing import StandardScaler\n",
        "scaler = StandardScaler()\n",
        "train_scaled = scaler.fit_transform(train)\n",
        "dev_scaled = scaler.transform(dev)\n",
        "test_scaled = scaler.transform(test)"
      ],
      "execution_count": 0,
      "outputs": []
    },
    {
      "cell_type": "markdown",
      "metadata": {
        "id": "WZnWWC0-3R-k",
        "colab_type": "text"
      },
      "source": [
        "## Greed search among parameters in SVM"
      ]
    },
    {
      "cell_type": "code",
      "metadata": {
        "id": "Lx0t_xTrw-sX",
        "colab_type": "code",
        "outputId": "194a3df0-4429-44f8-d744-972c69e2a085",
        "colab": {
          "base_uri": "https://localhost:8080/",
          "height": 54
        }
      },
      "source": [
        "# Create the parameter grid based on the results of random search \n",
        "params_grid = [{'kernel': ['rbf'], 'gamma': [1e-3, 1e-4],\n",
        "                     'C': [1, 10, 100, 1000]},\n",
        "                    {'kernel': ['linear'], 'C': [1, 10, 100, 1000]}]\n",
        "\n",
        "params_grid"
      ],
      "execution_count": 0,
      "outputs": [
        {
          "output_type": "execute_result",
          "data": {
            "text/plain": [
              "[{'C': [1, 10, 100, 1000], 'gamma': [0.001, 0.0001], 'kernel': ['rbf']},\n",
              " {'C': [1, 10, 100, 1000], 'kernel': ['linear']}]"
            ]
          },
          "metadata": {
            "tags": []
          },
          "execution_count": 12
        }
      ]
    },
    {
      "cell_type": "code",
      "metadata": {
        "id": "mobQLi0Dx8Nb",
        "colab_type": "code",
        "outputId": "2d4543f9-a93f-446c-e92e-e667df117c88",
        "colab": {
          "base_uri": "https://localhost:8080/",
          "height": 235
        }
      },
      "source": [
        "# Performing CV to tune parameters for best SVM fit \n",
        "svm_model = GridSearchCV(SVC(), params_grid, cv=5)\n",
        "svm_model.fit(train_scaled, Y_train)"
      ],
      "execution_count": 0,
      "outputs": [
        {
          "output_type": "execute_result",
          "data": {
            "text/plain": [
              "GridSearchCV(cv=5, error_score='raise-deprecating',\n",
              "             estimator=SVC(C=1.0, cache_size=200, class_weight=None, coef0=0.0,\n",
              "                           decision_function_shape='ovr', degree=3,\n",
              "                           gamma='auto_deprecated', kernel='rbf', max_iter=-1,\n",
              "                           probability=False, random_state=None, shrinking=True,\n",
              "                           tol=0.001, verbose=False),\n",
              "             iid='warn', n_jobs=None,\n",
              "             param_grid=[{'C': [1, 10, 100, 1000], 'gamma': [0.001, 0.0001],\n",
              "                          'kernel': ['rbf']},\n",
              "                         {'C': [1, 10, 100, 1000], 'kernel': ['linear']}],\n",
              "             pre_dispatch='2*n_jobs', refit=True, return_train_score=False,\n",
              "             scoring=None, verbose=0)"
            ]
          },
          "metadata": {
            "tags": []
          },
          "execution_count": 23
        }
      ]
    },
    {
      "cell_type": "code",
      "metadata": {
        "id": "ZxQ7KHRHxUSm",
        "colab_type": "code",
        "outputId": "0703c784-2876-4e1f-e524-344314911b4a",
        "colab": {
          "base_uri": "https://localhost:8080/",
          "height": 163
        }
      },
      "source": [
        "print('Best score for training data:', svm_model.best_score_,\"\\n\") \n",
        "\n",
        "# View the best parameters for the model found using grid search\n",
        "print('Best C:',svm_model.best_estimator_.C,\"\\n\") \n",
        "print('Best Kernel:',svm_model.best_estimator_.kernel,\"\\n\")\n",
        "print('Best Gamma:',svm_model.best_estimator_.gamma,\"\\n\")\n",
        "\n",
        "final_model = svm_model.best_estimator_\n",
        "Y_pred = final_model.predict(dev_scaled)\n",
        "Y_pred_label = list(encoder.inverse_transform(Y_pred))"
      ],
      "execution_count": 0,
      "outputs": [
        {
          "output_type": "stream",
          "text": [
            "Best score for training data: 0.4355865413761746 \n",
            "\n",
            "Best C: 10 \n",
            "\n",
            "Best Kernel: rbf \n",
            "\n",
            "Best Gamma: 0.0001 \n",
            "\n"
          ],
          "name": "stdout"
        }
      ]
    },
    {
      "cell_type": "markdown",
      "metadata": {
        "id": "t8MJXAFD7asz",
        "colab_type": "text"
      },
      "source": [
        "New Greed Search among parameters in SVM"
      ]
    },
    {
      "cell_type": "code",
      "metadata": {
        "id": "XG_iforq7Z1S",
        "colab_type": "code",
        "outputId": "d3430e12-017d-483c-d34c-34d87e25d416",
        "colab": {
          "base_uri": "https://localhost:8080/",
          "height": 90
        }
      },
      "source": [
        "# Create the parameter grid based on the results of random search \n",
        "params_grid = [{'kernel': ['rbf'], 'gamma': [1e-3, 1e-4],\n",
        "                     'C': [0.001, 0.01, 0.1, 1, 10, 100]},\n",
        "                    {'kernel': ['linear'], 'C': [0.001, 0.01, 0.1, 1, 10, 100]}]\n",
        "\n",
        "params_grid"
      ],
      "execution_count": 0,
      "outputs": [
        {
          "output_type": "execute_result",
          "data": {
            "text/plain": [
              "[{'C': [0.001, 0.01, 0.1, 1, 10, 100],\n",
              "  'gamma': [0.001, 0.0001],\n",
              "  'kernel': ['rbf']},\n",
              " {'C': [0.001, 0.01, 0.1, 1, 10, 100], 'kernel': ['linear']}]"
            ]
          },
          "metadata": {
            "tags": []
          },
          "execution_count": 13
        }
      ]
    },
    {
      "cell_type": "code",
      "metadata": {
        "id": "YAfBOg3f7uX0",
        "colab_type": "code",
        "outputId": "f67c76b4-d004-4b38-8eb0-666c8aad9cb4",
        "colab": {
          "base_uri": "https://localhost:8080/",
          "height": 254
        }
      },
      "source": [
        "# Performing CV to tune parameters for best SVM fit \n",
        "svm_model = GridSearchCV(SVC(), params_grid, cv=5)\n",
        "svm_model.fit(train_scaled, Y_train)"
      ],
      "execution_count": 0,
      "outputs": [
        {
          "output_type": "execute_result",
          "data": {
            "text/plain": [
              "GridSearchCV(cv=5, error_score='raise-deprecating',\n",
              "             estimator=SVC(C=1.0, cache_size=200, class_weight=None, coef0=0.0,\n",
              "                           decision_function_shape='ovr', degree=3,\n",
              "                           gamma='auto_deprecated', kernel='rbf', max_iter=-1,\n",
              "                           probability=False, random_state=None, shrinking=True,\n",
              "                           tol=0.001, verbose=False),\n",
              "             iid='warn', n_jobs=None,\n",
              "             param_grid=[{'C': [0.001, 0.01, 0.1, 1, 10, 100],\n",
              "                          'gamma': [0.001, 0.0001], 'kernel': ['rbf']},\n",
              "                         {'C': [0.001, 0.01, 0.1, 1, 10, 100],\n",
              "                          'kernel': ['linear']}],\n",
              "             pre_dispatch='2*n_jobs', refit=True, return_train_score=False,\n",
              "             scoring=None, verbose=0)"
            ]
          },
          "metadata": {
            "tags": []
          },
          "execution_count": 14
        }
      ]
    },
    {
      "cell_type": "code",
      "metadata": {
        "id": "HdrdccFi8Rpq",
        "colab_type": "code",
        "cellView": "code",
        "colab": {}
      },
      "source": [
        "#@title Default title text\n",
        "print('Best score for training data:', svm_model.best_score_,\"\\n\") \n",
        "\n",
        "# View the best parameters for the model found using grid search\n",
        "print('Best C:',svm_model.best_estimator_.C,\"\\n\") \n",
        "print('Best Kernel:',svm_model.best_estimator_.kernel,\"\\n\")\n",
        "print('Best Gamma:',svm_model.best_estimator_.gamma,\"\\n\")\n",
        "\n",
        "final_model = svm_model.best_estimator_\n",
        "Y_pred = final_model.predict(test_scaled)\n",
        "Y_pred_label = list(encoder.inverse_transform(Y_pred))"
      ],
      "execution_count": 0,
      "outputs": []
    },
    {
      "cell_type": "markdown",
      "metadata": {
        "id": "p46fjyOE4usB",
        "colab_type": "text"
      },
      "source": [
        "## Linear Kernel from the paper"
      ]
    },
    {
      "cell_type": "code",
      "metadata": {
        "id": "t703c4rL4inH",
        "colab_type": "code",
        "outputId": "2b8592a4-c053-4935-b988-db279be58eee",
        "colab": {
          "base_uri": "https://localhost:8080/",
          "height": 35
        }
      },
      "source": [
        "# Create the parameter grid based on the results of random search \n",
        "params_grid = [ {'kernel': ['linear'], 'C': [0.001]}]\n",
        "params_grid"
      ],
      "execution_count": 0,
      "outputs": [
        {
          "output_type": "execute_result",
          "data": {
            "text/plain": [
              "[{'C': [0.001], 'kernel': ['linear']}]"
            ]
          },
          "metadata": {
            "tags": []
          },
          "execution_count": 26
        }
      ]
    },
    {
      "cell_type": "code",
      "metadata": {
        "id": "W1wb-DqE42id",
        "colab_type": "code",
        "outputId": "bf5df04e-0afb-47d6-945b-5c12770cac09",
        "colab": {
          "base_uri": "https://localhost:8080/",
          "height": 199
        }
      },
      "source": [
        "# Performing CV to tune parameters for best SVM fit \n",
        "svm_model = GridSearchCV(SVC(), params_grid, cv=10) #now CV is 10\n",
        "svm_model.fit(train_scaled, Y_train)"
      ],
      "execution_count": 0,
      "outputs": [
        {
          "output_type": "execute_result",
          "data": {
            "text/plain": [
              "GridSearchCV(cv=10, error_score='raise-deprecating',\n",
              "             estimator=SVC(C=1.0, cache_size=200, class_weight=None, coef0=0.0,\n",
              "                           decision_function_shape='ovr', degree=3,\n",
              "                           gamma='auto_deprecated', kernel='rbf', max_iter=-1,\n",
              "                           probability=False, random_state=None, shrinking=True,\n",
              "                           tol=0.001, verbose=False),\n",
              "             iid='warn', n_jobs=None,\n",
              "             param_grid=[{'C': [0.001], 'kernel': ['linear']}],\n",
              "             pre_dispatch='2*n_jobs', refit=True, return_train_score=False,\n",
              "             scoring=None, verbose=0)"
            ]
          },
          "metadata": {
            "tags": []
          },
          "execution_count": 27
        }
      ]
    },
    {
      "cell_type": "code",
      "metadata": {
        "id": "51enxOK647-v",
        "colab_type": "code",
        "outputId": "067cefad-4770-4a1e-b3a6-b6cef4a62466",
        "colab": {
          "base_uri": "https://localhost:8080/",
          "height": 126
        }
      },
      "source": [
        "print('Best score for training data:', svm_model.best_score_,\"\\n\") \n",
        "\n",
        "# View the best parameters for the model found using grid search\n",
        "print('Best C:',svm_model.best_estimator_.C,\"\\n\") \n",
        "print('Best Kernel:',svm_model.best_estimator_.kernel,\"\\n\")\n",
        "#print('Best Gamma:',svm_model.best_estimator_.gamma,\"\\n\")\n",
        "\n",
        "final_model = svm_model.best_estimator_\n",
        "Y_pred = final_model.predict(test_scaled)\n",
        "Y_pred_label = list(encoder.inverse_transform(Y_pred))"
      ],
      "execution_count": 0,
      "outputs": [
        {
          "output_type": "stream",
          "text": [
            "Best score for training data: 0.43983025159139133 \n",
            "\n",
            "Best C: 0.001 \n",
            "\n",
            "Best Kernel: linear \n",
            "\n"
          ],
          "name": "stdout"
        }
      ]
    },
    {
      "cell_type": "markdown",
      "metadata": {
        "id": "iCAK4EvlOc1L",
        "colab_type": "text"
      },
      "source": [
        "## Full Greed Search"
      ]
    },
    {
      "cell_type": "code",
      "metadata": {
        "id": "GaJszcqfOcNl",
        "colab_type": "code",
        "outputId": "473deaab-41b0-4d40-fc28-a87e016bfbbb",
        "colab": {
          "base_uri": "https://localhost:8080/",
          "height": 163
        }
      },
      "source": [
        " # Create the parameter grid based on the results of random search \n",
        "params_grid = [{'kernel': ['rbf'], 'gamma': [1e-3, 1e-4,1e-1, 1, 5, 10, 100],\n",
        "                     'C': [0.001, 0.01, 0.1, 1, 10, 100, 1000]},\n",
        "                    {'kernel': ['linear'], 'C': [0.001, 0.01, 0.1, 1, 10, 100]},\n",
        "                {'kernel': ['poly'], 'gamma': [1e-3, 1e-4,1e-1, 1, 5, 10, 100], 'degree': [2, 3, 5], 'C': [0.001, 0.01, 0.1, 1, 10, 100]}]\n",
        "\n",
        "params_grid"
      ],
      "execution_count": 9,
      "outputs": [
        {
          "output_type": "execute_result",
          "data": {
            "text/plain": [
              "[{'C': [0.001, 0.01, 0.1, 1, 10, 100, 1000],\n",
              "  'gamma': [0.001, 0.0001, 0.1, 1, 5, 10, 100],\n",
              "  'kernel': ['rbf']},\n",
              " {'C': [0.001, 0.01, 0.1, 1, 10, 100], 'kernel': ['linear']},\n",
              " {'C': [0.001, 0.01, 0.1, 1, 10, 100],\n",
              "  'degree': [2, 5, 8],\n",
              "  'gamma': [0.001, 0.0001, 0.1, 1, 5, 10, 100],\n",
              "  'kernel': ['poly']}]"
            ]
          },
          "metadata": {
            "tags": []
          },
          "execution_count": 9
        }
      ]
    },
    {
      "cell_type": "code",
      "metadata": {
        "id": "ifRNCdtnPTpV",
        "colab_type": "code",
        "colab": {}
      },
      "source": [
        "# Performing CV to tune parameters for best SVM fit \n",
        "svm_model = GridSearchCV(SVC(), params_grid, cv=5)\n",
        "svm_model.fit(train_scaled, Y_train)"
      ],
      "execution_count": 0,
      "outputs": []
    },
    {
      "cell_type": "code",
      "metadata": {
        "id": "klqaKN2QAimj",
        "colab_type": "code",
        "cellView": "code",
        "colab": {}
      },
      "source": [
        "#@title Default title text\n",
        "print('Best score for training data:', svm_model.best_score_,\"\\n\") \n",
        "\n",
        "# View the best parameters for the model found using grid search\n",
        "print('Best C:',svm_model.best_estimator_.C,\"\\n\") \n",
        "print('Best Kernel:',svm_model.best_estimator_.kernel,\"\\n\")\n",
        "print('Best Gamma:',svm_model.best_estimator_.gamma,\"\\n\")\n",
        "\n",
        "final_model = svm_model.best_estimator_\n",
        "Y_pred = final_model.predict(test_scaled)\n",
        "Y_pred_label = list(encoder.inverse_transform(Y_pred))"
      ],
      "execution_count": 0,
      "outputs": []
    },
    {
      "cell_type": "code",
      "metadata": {
        "id": "itcOUEvvSrtU",
        "colab_type": "code",
        "cellView": "code",
        "colab": {}
      },
      "source": [
        "#@title Default title text\n",
        "print('Best score for training data:', svm_model.best_score_,\"\\n\") \n",
        "\n",
        "# View the best parameters for the model found using grid search\n",
        "print('Best C:',svm_model.best_estimator_.C,\"\\n\") \n",
        "print('Best Kernel:',svm_model.best_estimator_.kernel,\"\\n\")\n",
        "print('Best Gamma:',svm_model.best_estimator_.gamma,\"\\n\")\n",
        "print('Best Degree:',svm_model.best_estimator_.degree,\"\\n\")\n",
        "\n",
        "final_model = svm_model.best_estimator_\n",
        "Y_pred = final_model.predict(test_scaled)\n",
        "Y_pred_label = list(encoder.inverse_transform(Y_pred))"
      ],
      "execution_count": 0,
      "outputs": []
    },
    {
      "cell_type": "markdown",
      "metadata": {
        "id": "nIyqFqapFJAS",
        "colab_type": "text"
      },
      "source": [
        "## Random Forests"
      ]
    },
    {
      "cell_type": "code",
      "metadata": {
        "id": "fEAjN-iwFHz7",
        "colab_type": "code",
        "colab": {
          "base_uri": "https://localhost:8080/",
          "height": 35
        },
        "outputId": "bea8d01c-451f-4b37-ce34-0faae5417709"
      },
      "source": [
        "from sklearn.ensemble import RandomForestClassifier\n",
        "import time\n",
        "\n",
        "classifier = RandomForestClassifier(n_estimators = 200, criterion = 'entropy', random_state = 0)\n",
        "start = time.time()\n",
        "classifier.fit(train_scaled, y_train)\n",
        "stop = time.time()\n",
        "print(f\"Training time: {stop - start}s\")\n",
        "y_pred = classifier.predict(test_scaled)"
      ],
      "execution_count": 31,
      "outputs": [
        {
          "output_type": "stream",
          "text": [
            "Training time: 169.64122676849365s\n"
          ],
          "name": "stdout"
        }
      ]
    },
    {
      "cell_type": "code",
      "metadata": {
        "id": "yg2r6jlZg3Lz",
        "colab_type": "code",
        "colab": {
          "base_uri": "https://localhost:8080/",
          "height": 35
        },
        "outputId": "26554110-ca9c-45e9-c289-848aec31c674"
      },
      "source": [
        "from sklearn.metrics import accuracy_score, auc, roc_auc_score, roc_curve\n",
        "\n",
        "accuracy_score(y_train[:866], y_pred)"
      ],
      "execution_count": 48,
      "outputs": [
        {
          "output_type": "execute_result",
          "data": {
            "text/plain": [
              "0.10161662817551963"
            ]
          },
          "metadata": {
            "tags": []
          },
          "execution_count": 48
        }
      ]
    },
    {
      "cell_type": "code",
      "metadata": {
        "id": "U6eP8ydcWV8H",
        "colab_type": "code",
        "colab": {}
      },
      "source": [
        "reg_pred = y_pred"
      ],
      "execution_count": 0,
      "outputs": []
    }
  ]
}